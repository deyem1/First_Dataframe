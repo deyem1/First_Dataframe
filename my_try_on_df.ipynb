{
 "cells": [
  {
   "cell_type": "markdown",
   "id": "7c7f6e88-47fc-4abb-af44-d17acb8a9749",
   "metadata": {},
   "source": [
    "dataframe from list "
   ]
  },
  {
   "cell_type": "code",
   "execution_count": 88,
   "id": "192bd165-1268-40be-ad98-b33472d19d2b",
   "metadata": {},
   "outputs": [
    {
     "data": {
      "text/plain": [
       "['A', 'B', 'C', 'D', 'E', 'F', 'G', 'H', 'I', 'J']"
      ]
     },
     "execution_count": 88,
     "metadata": {},
     "output_type": "execute_result"
    }
   ],
   "source": [
    "list1 = 'A B C D E F G H I J '.split()\n",
    "list1"
   ]
  },
  {
   "cell_type": "code",
   "execution_count": 89,
   "id": "a9aea37e-d409-4b73-95d9-9191791c2d2c",
   "metadata": {},
   "outputs": [],
   "source": [
    "import pandas as pd\n",
    "import numpy as np\n",
    "# from numpy.random import randn"
   ]
  },
  {
   "cell_type": "code",
   "execution_count": 90,
   "id": "0ae8120b-9169-4bd5-a719-2bb4b4e799a9",
   "metadata": {},
   "outputs": [],
   "source": [
    "df = pd.DataFrame(randn(5,10),index = (\"Ade Yomi Seun Kole Dada\".split()), columns=(list1))"
   ]
  },
  {
   "cell_type": "code",
   "execution_count": 91,
   "id": "d0f2703f-7301-46a8-9b63-6bd31e846273",
   "metadata": {},
   "outputs": [
    {
     "data": {
      "text/html": [
       "<div>\n",
       "<style scoped>\n",
       "    .dataframe tbody tr th:only-of-type {\n",
       "        vertical-align: middle;\n",
       "    }\n",
       "\n",
       "    .dataframe tbody tr th {\n",
       "        vertical-align: top;\n",
       "    }\n",
       "\n",
       "    .dataframe thead th {\n",
       "        text-align: right;\n",
       "    }\n",
       "</style>\n",
       "<table border=\"1\" class=\"dataframe\">\n",
       "  <thead>\n",
       "    <tr style=\"text-align: right;\">\n",
       "      <th></th>\n",
       "      <th>A</th>\n",
       "      <th>B</th>\n",
       "      <th>C</th>\n",
       "      <th>D</th>\n",
       "      <th>E</th>\n",
       "      <th>F</th>\n",
       "      <th>G</th>\n",
       "      <th>H</th>\n",
       "      <th>I</th>\n",
       "      <th>J</th>\n",
       "    </tr>\n",
       "  </thead>\n",
       "  <tbody>\n",
       "    <tr>\n",
       "      <th>Ade</th>\n",
       "      <td>1.556014</td>\n",
       "      <td>1.283492</td>\n",
       "      <td>1.219083</td>\n",
       "      <td>-0.068279</td>\n",
       "      <td>1.274275</td>\n",
       "      <td>0.439598</td>\n",
       "      <td>2.484831</td>\n",
       "      <td>-0.087425</td>\n",
       "      <td>0.076179</td>\n",
       "      <td>0.316041</td>\n",
       "    </tr>\n",
       "    <tr>\n",
       "      <th>Yomi</th>\n",
       "      <td>1.848987</td>\n",
       "      <td>1.084186</td>\n",
       "      <td>0.304392</td>\n",
       "      <td>-1.963178</td>\n",
       "      <td>0.168912</td>\n",
       "      <td>1.238792</td>\n",
       "      <td>-0.463515</td>\n",
       "      <td>-0.418040</td>\n",
       "      <td>-0.713752</td>\n",
       "      <td>0.809542</td>\n",
       "    </tr>\n",
       "    <tr>\n",
       "      <th>Seun</th>\n",
       "      <td>-0.345422</td>\n",
       "      <td>-0.789942</td>\n",
       "      <td>-0.715915</td>\n",
       "      <td>0.776052</td>\n",
       "      <td>0.340507</td>\n",
       "      <td>-1.048108</td>\n",
       "      <td>0.307990</td>\n",
       "      <td>-1.130344</td>\n",
       "      <td>0.915014</td>\n",
       "      <td>0.304013</td>\n",
       "    </tr>\n",
       "    <tr>\n",
       "      <th>Kole</th>\n",
       "      <td>-0.341430</td>\n",
       "      <td>-1.150148</td>\n",
       "      <td>-0.958460</td>\n",
       "      <td>1.144588</td>\n",
       "      <td>-1.591994</td>\n",
       "      <td>0.177086</td>\n",
       "      <td>1.476179</td>\n",
       "      <td>0.255654</td>\n",
       "      <td>-0.859332</td>\n",
       "      <td>-0.338498</td>\n",
       "    </tr>\n",
       "    <tr>\n",
       "      <th>Dada</th>\n",
       "      <td>-0.754438</td>\n",
       "      <td>0.364500</td>\n",
       "      <td>-0.636352</td>\n",
       "      <td>1.637177</td>\n",
       "      <td>-1.190138</td>\n",
       "      <td>0.978400</td>\n",
       "      <td>0.362250</td>\n",
       "      <td>0.881764</td>\n",
       "      <td>1.692161</td>\n",
       "      <td>-0.775406</td>\n",
       "    </tr>\n",
       "  </tbody>\n",
       "</table>\n",
       "</div>"
      ],
      "text/plain": [
       "             A         B         C         D         E         F         G  \\\n",
       "Ade   1.556014  1.283492  1.219083 -0.068279  1.274275  0.439598  2.484831   \n",
       "Yomi  1.848987  1.084186  0.304392 -1.963178  0.168912  1.238792 -0.463515   \n",
       "Seun -0.345422 -0.789942 -0.715915  0.776052  0.340507 -1.048108  0.307990   \n",
       "Kole -0.341430 -1.150148 -0.958460  1.144588 -1.591994  0.177086  1.476179   \n",
       "Dada -0.754438  0.364500 -0.636352  1.637177 -1.190138  0.978400  0.362250   \n",
       "\n",
       "             H         I         J  \n",
       "Ade  -0.087425  0.076179  0.316041  \n",
       "Yomi -0.418040 -0.713752  0.809542  \n",
       "Seun -1.130344  0.915014  0.304013  \n",
       "Kole  0.255654 -0.859332 -0.338498  \n",
       "Dada  0.881764  1.692161 -0.775406  "
      ]
     },
     "execution_count": 91,
     "metadata": {},
     "output_type": "execute_result"
    }
   ],
   "source": [
    "df"
   ]
  },
  {
   "cell_type": "code",
   "execution_count": 92,
   "id": "da0d465f-e657-425e-8489-fa57d0dd0f4d",
   "metadata": {},
   "outputs": [
    {
     "data": {
      "text/plain": [
       "Ade     1.556014\n",
       "Yomi    1.848987\n",
       "Seun   -0.345422\n",
       "Kole   -0.341430\n",
       "Dada   -0.754438\n",
       "Name: A, dtype: float64"
      ]
     },
     "execution_count": 92,
     "metadata": {},
     "output_type": "execute_result"
    }
   ],
   "source": [
    "df[\"A\"]"
   ]
  },
  {
   "cell_type": "code",
   "execution_count": 93,
   "id": "874ba22d-5b4f-4f5d-bb6d-628aa9633e4f",
   "metadata": {},
   "outputs": [
    {
     "data": {
      "text/html": [
       "<div>\n",
       "<style scoped>\n",
       "    .dataframe tbody tr th:only-of-type {\n",
       "        vertical-align: middle;\n",
       "    }\n",
       "\n",
       "    .dataframe tbody tr th {\n",
       "        vertical-align: top;\n",
       "    }\n",
       "\n",
       "    .dataframe thead th {\n",
       "        text-align: right;\n",
       "    }\n",
       "</style>\n",
       "<table border=\"1\" class=\"dataframe\">\n",
       "  <thead>\n",
       "    <tr style=\"text-align: right;\">\n",
       "      <th></th>\n",
       "      <th>A</th>\n",
       "      <th>B</th>\n",
       "    </tr>\n",
       "  </thead>\n",
       "  <tbody>\n",
       "    <tr>\n",
       "      <th>Ade</th>\n",
       "      <td>1.556014</td>\n",
       "      <td>1.283492</td>\n",
       "    </tr>\n",
       "    <tr>\n",
       "      <th>Yomi</th>\n",
       "      <td>1.848987</td>\n",
       "      <td>1.084186</td>\n",
       "    </tr>\n",
       "    <tr>\n",
       "      <th>Seun</th>\n",
       "      <td>-0.345422</td>\n",
       "      <td>-0.789942</td>\n",
       "    </tr>\n",
       "    <tr>\n",
       "      <th>Kole</th>\n",
       "      <td>-0.341430</td>\n",
       "      <td>-1.150148</td>\n",
       "    </tr>\n",
       "    <tr>\n",
       "      <th>Dada</th>\n",
       "      <td>-0.754438</td>\n",
       "      <td>0.364500</td>\n",
       "    </tr>\n",
       "  </tbody>\n",
       "</table>\n",
       "</div>"
      ],
      "text/plain": [
       "             A         B\n",
       "Ade   1.556014  1.283492\n",
       "Yomi  1.848987  1.084186\n",
       "Seun -0.345422 -0.789942\n",
       "Kole -0.341430 -1.150148\n",
       "Dada -0.754438  0.364500"
      ]
     },
     "execution_count": 93,
     "metadata": {},
     "output_type": "execute_result"
    }
   ],
   "source": [
    "df[[\"A\",\"B\"]]"
   ]
  },
  {
   "cell_type": "code",
   "execution_count": 94,
   "id": "f83d4b86-3061-4c1d-bc10-682c7d98f5b1",
   "metadata": {},
   "outputs": [
    {
     "data": {
      "text/plain": [
       "A    1.556014\n",
       "B    1.283492\n",
       "C    1.219083\n",
       "D   -0.068279\n",
       "E    1.274275\n",
       "F    0.439598\n",
       "G    2.484831\n",
       "H   -0.087425\n",
       "I    0.076179\n",
       "J    0.316041\n",
       "Name: Ade, dtype: float64"
      ]
     },
     "execution_count": 94,
     "metadata": {},
     "output_type": "execute_result"
    }
   ],
   "source": [
    "df.loc[\"Ade\"]"
   ]
  },
  {
   "cell_type": "code",
   "execution_count": 95,
   "id": "af7ed8fe-5da5-4d13-b672-05c910312f8e",
   "metadata": {},
   "outputs": [
    {
     "data": {
      "text/plain": [
       "A   -0.341430\n",
       "B   -1.150148\n",
       "C   -0.958460\n",
       "D    1.144588\n",
       "E   -1.591994\n",
       "F    0.177086\n",
       "G    1.476179\n",
       "H    0.255654\n",
       "I   -0.859332\n",
       "J   -0.338498\n",
       "Name: Kole, dtype: float64"
      ]
     },
     "execution_count": 95,
     "metadata": {},
     "output_type": "execute_result"
    }
   ],
   "source": [
    "df.iloc[3]"
   ]
  },
  {
   "cell_type": "code",
   "execution_count": 96,
   "id": "eddf5868-460b-4597-8046-69d9f6311353",
   "metadata": {},
   "outputs": [
    {
     "data": {
      "text/html": [
       "<div>\n",
       "<style scoped>\n",
       "    .dataframe tbody tr th:only-of-type {\n",
       "        vertical-align: middle;\n",
       "    }\n",
       "\n",
       "    .dataframe tbody tr th {\n",
       "        vertical-align: top;\n",
       "    }\n",
       "\n",
       "    .dataframe thead th {\n",
       "        text-align: right;\n",
       "    }\n",
       "</style>\n",
       "<table border=\"1\" class=\"dataframe\">\n",
       "  <thead>\n",
       "    <tr style=\"text-align: right;\">\n",
       "      <th></th>\n",
       "      <th>A</th>\n",
       "      <th>B</th>\n",
       "      <th>C</th>\n",
       "      <th>D</th>\n",
       "      <th>E</th>\n",
       "      <th>F</th>\n",
       "      <th>G</th>\n",
       "      <th>H</th>\n",
       "      <th>I</th>\n",
       "      <th>J</th>\n",
       "    </tr>\n",
       "  </thead>\n",
       "  <tbody>\n",
       "    <tr>\n",
       "      <th>Ade</th>\n",
       "      <td>1.556014</td>\n",
       "      <td>1.283492</td>\n",
       "      <td>1.219083</td>\n",
       "      <td>NaN</td>\n",
       "      <td>1.274275</td>\n",
       "      <td>0.439598</td>\n",
       "      <td>2.484831</td>\n",
       "      <td>NaN</td>\n",
       "      <td>0.076179</td>\n",
       "      <td>0.316041</td>\n",
       "    </tr>\n",
       "    <tr>\n",
       "      <th>Yomi</th>\n",
       "      <td>1.848987</td>\n",
       "      <td>1.084186</td>\n",
       "      <td>0.304392</td>\n",
       "      <td>NaN</td>\n",
       "      <td>0.168912</td>\n",
       "      <td>1.238792</td>\n",
       "      <td>NaN</td>\n",
       "      <td>NaN</td>\n",
       "      <td>NaN</td>\n",
       "      <td>0.809542</td>\n",
       "    </tr>\n",
       "    <tr>\n",
       "      <th>Seun</th>\n",
       "      <td>NaN</td>\n",
       "      <td>NaN</td>\n",
       "      <td>NaN</td>\n",
       "      <td>0.776052</td>\n",
       "      <td>0.340507</td>\n",
       "      <td>NaN</td>\n",
       "      <td>0.307990</td>\n",
       "      <td>NaN</td>\n",
       "      <td>0.915014</td>\n",
       "      <td>0.304013</td>\n",
       "    </tr>\n",
       "    <tr>\n",
       "      <th>Kole</th>\n",
       "      <td>NaN</td>\n",
       "      <td>NaN</td>\n",
       "      <td>NaN</td>\n",
       "      <td>1.144588</td>\n",
       "      <td>NaN</td>\n",
       "      <td>0.177086</td>\n",
       "      <td>1.476179</td>\n",
       "      <td>0.255654</td>\n",
       "      <td>NaN</td>\n",
       "      <td>NaN</td>\n",
       "    </tr>\n",
       "    <tr>\n",
       "      <th>Dada</th>\n",
       "      <td>NaN</td>\n",
       "      <td>0.364500</td>\n",
       "      <td>NaN</td>\n",
       "      <td>1.637177</td>\n",
       "      <td>NaN</td>\n",
       "      <td>0.978400</td>\n",
       "      <td>0.362250</td>\n",
       "      <td>0.881764</td>\n",
       "      <td>1.692161</td>\n",
       "      <td>NaN</td>\n",
       "    </tr>\n",
       "  </tbody>\n",
       "</table>\n",
       "</div>"
      ],
      "text/plain": [
       "             A         B         C         D         E         F         G  \\\n",
       "Ade   1.556014  1.283492  1.219083       NaN  1.274275  0.439598  2.484831   \n",
       "Yomi  1.848987  1.084186  0.304392       NaN  0.168912  1.238792       NaN   \n",
       "Seun       NaN       NaN       NaN  0.776052  0.340507       NaN  0.307990   \n",
       "Kole       NaN       NaN       NaN  1.144588       NaN  0.177086  1.476179   \n",
       "Dada       NaN  0.364500       NaN  1.637177       NaN  0.978400  0.362250   \n",
       "\n",
       "             H         I         J  \n",
       "Ade        NaN  0.076179  0.316041  \n",
       "Yomi       NaN       NaN  0.809542  \n",
       "Seun       NaN  0.915014  0.304013  \n",
       "Kole  0.255654       NaN       NaN  \n",
       "Dada  0.881764  1.692161       NaN  "
      ]
     },
     "execution_count": 96,
     "metadata": {},
     "output_type": "execute_result"
    }
   ],
   "source": [
    "df[df>0]"
   ]
  },
  {
   "cell_type": "code",
   "execution_count": 97,
   "id": "2c85407b-81ae-41c6-abea-a55382976be9",
   "metadata": {},
   "outputs": [
    {
     "data": {
      "text/html": [
       "<div>\n",
       "<style scoped>\n",
       "    .dataframe tbody tr th:only-of-type {\n",
       "        vertical-align: middle;\n",
       "    }\n",
       "\n",
       "    .dataframe tbody tr th {\n",
       "        vertical-align: top;\n",
       "    }\n",
       "\n",
       "    .dataframe thead th {\n",
       "        text-align: right;\n",
       "    }\n",
       "</style>\n",
       "<table border=\"1\" class=\"dataframe\">\n",
       "  <thead>\n",
       "    <tr style=\"text-align: right;\">\n",
       "      <th></th>\n",
       "      <th>A</th>\n",
       "      <th>B</th>\n",
       "      <th>C</th>\n",
       "      <th>D</th>\n",
       "      <th>E</th>\n",
       "      <th>F</th>\n",
       "      <th>G</th>\n",
       "      <th>H</th>\n",
       "      <th>I</th>\n",
       "      <th>J</th>\n",
       "    </tr>\n",
       "  </thead>\n",
       "  <tbody>\n",
       "    <tr>\n",
       "      <th>Ade</th>\n",
       "      <td>1.556014</td>\n",
       "      <td>1.283492</td>\n",
       "      <td>1.219083</td>\n",
       "      <td>-0.068279</td>\n",
       "      <td>1.274275</td>\n",
       "      <td>0.439598</td>\n",
       "      <td>2.484831</td>\n",
       "      <td>-0.087425</td>\n",
       "      <td>0.076179</td>\n",
       "      <td>0.316041</td>\n",
       "    </tr>\n",
       "    <tr>\n",
       "      <th>Yomi</th>\n",
       "      <td>1.848987</td>\n",
       "      <td>1.084186</td>\n",
       "      <td>0.304392</td>\n",
       "      <td>-1.963178</td>\n",
       "      <td>0.168912</td>\n",
       "      <td>1.238792</td>\n",
       "      <td>-0.463515</td>\n",
       "      <td>-0.418040</td>\n",
       "      <td>-0.713752</td>\n",
       "      <td>0.809542</td>\n",
       "    </tr>\n",
       "  </tbody>\n",
       "</table>\n",
       "</div>"
      ],
      "text/plain": [
       "             A         B         C         D         E         F         G  \\\n",
       "Ade   1.556014  1.283492  1.219083 -0.068279  1.274275  0.439598  2.484831   \n",
       "Yomi  1.848987  1.084186  0.304392 -1.963178  0.168912  1.238792 -0.463515   \n",
       "\n",
       "             H         I         J  \n",
       "Ade  -0.087425  0.076179  0.316041  \n",
       "Yomi -0.418040 -0.713752  0.809542  "
      ]
     },
     "execution_count": 97,
     "metadata": {},
     "output_type": "execute_result"
    }
   ],
   "source": [
    "df[df[\"A\"]>1]"
   ]
  },
  {
   "cell_type": "code",
   "execution_count": 98,
   "id": "1459ab05-a683-4baf-825e-47e648a5ecf4",
   "metadata": {},
   "outputs": [
    {
     "data": {
      "text/plain": [
       "Ade     1.219083\n",
       "Yomi    0.304392\n",
       "Name: C, dtype: float64"
      ]
     },
     "execution_count": 98,
     "metadata": {},
     "output_type": "execute_result"
    }
   ],
   "source": [
    "df[df['A']>0]['C']"
   ]
  },
  {
   "cell_type": "markdown",
   "id": "94423c14-4430-4a2f-8bed-4a9dec96e0f0",
   "metadata": {},
   "source": [
    "unkown"
   ]
  },
  {
   "cell_type": "code",
   "execution_count": 99,
   "id": "2b23845a-6f00-454e-a7b6-55614a8faefd",
   "metadata": {},
   "outputs": [
    {
     "data": {
      "text/html": [
       "<div>\n",
       "<style scoped>\n",
       "    .dataframe tbody tr th:only-of-type {\n",
       "        vertical-align: middle;\n",
       "    }\n",
       "\n",
       "    .dataframe tbody tr th {\n",
       "        vertical-align: top;\n",
       "    }\n",
       "\n",
       "    .dataframe thead th {\n",
       "        text-align: right;\n",
       "    }\n",
       "</style>\n",
       "<table border=\"1\" class=\"dataframe\">\n",
       "  <thead>\n",
       "    <tr style=\"text-align: right;\">\n",
       "      <th></th>\n",
       "      <th>A</th>\n",
       "      <th>B</th>\n",
       "      <th>C</th>\n",
       "      <th>D</th>\n",
       "      <th>E</th>\n",
       "      <th>F</th>\n",
       "      <th>G</th>\n",
       "      <th>H</th>\n",
       "      <th>I</th>\n",
       "      <th>J</th>\n",
       "    </tr>\n",
       "  </thead>\n",
       "  <tbody>\n",
       "    <tr>\n",
       "      <th>Ade</th>\n",
       "      <td>1.556014</td>\n",
       "      <td>1.283492</td>\n",
       "      <td>1.219083</td>\n",
       "      <td>-0.068279</td>\n",
       "      <td>1.274275</td>\n",
       "      <td>0.439598</td>\n",
       "      <td>2.484831</td>\n",
       "      <td>-0.087425</td>\n",
       "      <td>0.076179</td>\n",
       "      <td>0.316041</td>\n",
       "    </tr>\n",
       "    <tr>\n",
       "      <th>Yomi</th>\n",
       "      <td>1.848987</td>\n",
       "      <td>1.084186</td>\n",
       "      <td>0.304392</td>\n",
       "      <td>-1.963178</td>\n",
       "      <td>0.168912</td>\n",
       "      <td>1.238792</td>\n",
       "      <td>-0.463515</td>\n",
       "      <td>-0.418040</td>\n",
       "      <td>-0.713752</td>\n",
       "      <td>0.809542</td>\n",
       "    </tr>\n",
       "  </tbody>\n",
       "</table>\n",
       "</div>"
      ],
      "text/plain": [
       "             A         B         C         D         E         F         G  \\\n",
       "Ade   1.556014  1.283492  1.219083 -0.068279  1.274275  0.439598  2.484831   \n",
       "Yomi  1.848987  1.084186  0.304392 -1.963178  0.168912  1.238792 -0.463515   \n",
       "\n",
       "             H         I         J  \n",
       "Ade  -0.087425  0.076179  0.316041  \n",
       "Yomi -0.418040 -0.713752  0.809542  "
      ]
     },
     "execution_count": 99,
     "metadata": {},
     "output_type": "execute_result"
    }
   ],
   "source": [
    "df[(df['B']>1) | (df['H'] > 1)]"
   ]
  },
  {
   "cell_type": "code",
   "execution_count": 41,
   "id": "8b51b655-468b-43e3-8947-abdd3c013f80",
   "metadata": {},
   "outputs": [
    {
     "data": {
      "text/html": [
       "<div>\n",
       "<style scoped>\n",
       "    .dataframe tbody tr th:only-of-type {\n",
       "        vertical-align: middle;\n",
       "    }\n",
       "\n",
       "    .dataframe tbody tr th {\n",
       "        vertical-align: top;\n",
       "    }\n",
       "\n",
       "    .dataframe thead th {\n",
       "        text-align: right;\n",
       "    }\n",
       "</style>\n",
       "<table border=\"1\" class=\"dataframe\">\n",
       "  <thead>\n",
       "    <tr style=\"text-align: right;\">\n",
       "      <th></th>\n",
       "      <th>index</th>\n",
       "      <th>A</th>\n",
       "      <th>B</th>\n",
       "      <th>C</th>\n",
       "      <th>D</th>\n",
       "      <th>E</th>\n",
       "      <th>F</th>\n",
       "      <th>G</th>\n",
       "      <th>H</th>\n",
       "      <th>I</th>\n",
       "      <th>J</th>\n",
       "    </tr>\n",
       "  </thead>\n",
       "  <tbody>\n",
       "    <tr>\n",
       "      <th>0</th>\n",
       "      <td>Ade</td>\n",
       "      <td>-0.563575</td>\n",
       "      <td>0.018375</td>\n",
       "      <td>-1.067604</td>\n",
       "      <td>1.427583</td>\n",
       "      <td>-1.265372</td>\n",
       "      <td>-0.211609</td>\n",
       "      <td>1.784409</td>\n",
       "      <td>2.231918</td>\n",
       "      <td>0.313904</td>\n",
       "      <td>0.399908</td>\n",
       "    </tr>\n",
       "    <tr>\n",
       "      <th>1</th>\n",
       "      <td>Yomi</td>\n",
       "      <td>0.134932</td>\n",
       "      <td>0.781239</td>\n",
       "      <td>-0.175847</td>\n",
       "      <td>0.860032</td>\n",
       "      <td>0.893148</td>\n",
       "      <td>0.472390</td>\n",
       "      <td>-0.456037</td>\n",
       "      <td>0.359426</td>\n",
       "      <td>-2.834607</td>\n",
       "      <td>-1.141032</td>\n",
       "    </tr>\n",
       "    <tr>\n",
       "      <th>2</th>\n",
       "      <td>Seun</td>\n",
       "      <td>1.780669</td>\n",
       "      <td>-1.439544</td>\n",
       "      <td>0.747105</td>\n",
       "      <td>-0.136135</td>\n",
       "      <td>-0.083454</td>\n",
       "      <td>0.432288</td>\n",
       "      <td>-0.683357</td>\n",
       "      <td>-0.057808</td>\n",
       "      <td>0.165380</td>\n",
       "      <td>-1.604855</td>\n",
       "    </tr>\n",
       "    <tr>\n",
       "      <th>3</th>\n",
       "      <td>Kole</td>\n",
       "      <td>0.056473</td>\n",
       "      <td>0.519014</td>\n",
       "      <td>-0.307626</td>\n",
       "      <td>1.737417</td>\n",
       "      <td>-0.330875</td>\n",
       "      <td>0.340686</td>\n",
       "      <td>-1.288953</td>\n",
       "      <td>1.593502</td>\n",
       "      <td>-1.728174</td>\n",
       "      <td>0.092127</td>\n",
       "    </tr>\n",
       "    <tr>\n",
       "      <th>4</th>\n",
       "      <td>Dada</td>\n",
       "      <td>0.978323</td>\n",
       "      <td>-0.689861</td>\n",
       "      <td>1.670321</td>\n",
       "      <td>-0.937943</td>\n",
       "      <td>-1.463190</td>\n",
       "      <td>-1.416885</td>\n",
       "      <td>1.293606</td>\n",
       "      <td>-1.615331</td>\n",
       "      <td>0.411165</td>\n",
       "      <td>0.137645</td>\n",
       "    </tr>\n",
       "  </tbody>\n",
       "</table>\n",
       "</div>"
      ],
      "text/plain": [
       "  index         A         B         C         D         E         F         G  \\\n",
       "0   Ade -0.563575  0.018375 -1.067604  1.427583 -1.265372 -0.211609  1.784409   \n",
       "1  Yomi  0.134932  0.781239 -0.175847  0.860032  0.893148  0.472390 -0.456037   \n",
       "2  Seun  1.780669 -1.439544  0.747105 -0.136135 -0.083454  0.432288 -0.683357   \n",
       "3  Kole  0.056473  0.519014 -0.307626  1.737417 -0.330875  0.340686 -1.288953   \n",
       "4  Dada  0.978323 -0.689861  1.670321 -0.937943 -1.463190 -1.416885  1.293606   \n",
       "\n",
       "          H         I         J  \n",
       "0  2.231918  0.313904  0.399908  \n",
       "1  0.359426 -2.834607 -1.141032  \n",
       "2 -0.057808  0.165380 -1.604855  \n",
       "3  1.593502 -1.728174  0.092127  \n",
       "4 -1.615331  0.411165  0.137645  "
      ]
     },
     "execution_count": 41,
     "metadata": {},
     "output_type": "execute_result"
    }
   ],
   "source": [
    "df.reset_index()"
   ]
  },
  {
   "cell_type": "markdown",
   "id": "480bb01f-345e-4993-a461-f26ce7d53b3c",
   "metadata": {},
   "source": [
    "# series"
   ]
  },
  {
   "cell_type": "code",
   "execution_count": 42,
   "id": "591adc95-4690-4d2d-8e03-0d15e87054bf",
   "metadata": {},
   "outputs": [],
   "source": [
    "my_list = [2,3,5,7,9,0]"
   ]
  },
  {
   "cell_type": "code",
   "execution_count": 52,
   "id": "d52ea1ec-382d-4e41-8879-f598e5469416",
   "metadata": {},
   "outputs": [
    {
     "data": {
      "text/plain": [
       "s    2\n",
       "a    3\n",
       "m    5\n",
       "p    7\n",
       "l    9\n",
       "e    0\n",
       "dtype: int64"
      ]
     },
     "execution_count": 52,
     "metadata": {},
     "output_type": "execute_result"
    }
   ],
   "source": [
    "pd.Series(my_list,  \"s a m p l e\".split())"
   ]
  },
  {
   "cell_type": "code",
   "execution_count": 55,
   "id": "76a12c90-8be7-4b2f-b028-5be597be91ef",
   "metadata": {},
   "outputs": [],
   "source": [
    "dictionary1 = {'a' : 6, 'b':['fat', 6], 'c':\"has\"}"
   ]
  },
  {
   "cell_type": "code",
   "execution_count": 56,
   "id": "fc29efc9-e1c3-457b-af86-c4a69cbb9119",
   "metadata": {},
   "outputs": [
    {
     "data": {
      "text/plain": [
       "{'a': 6, 'b': ['fat', 6], 'c': 'has'}"
      ]
     },
     "execution_count": 56,
     "metadata": {},
     "output_type": "execute_result"
    }
   ],
   "source": [
    "dictionary1"
   ]
  },
  {
   "cell_type": "code",
   "execution_count": 57,
   "id": "29588362-976b-47de-a242-5858addea438",
   "metadata": {},
   "outputs": [
    {
     "data": {
      "text/plain": [
       "a           6\n",
       "b    [fat, 6]\n",
       "c         has\n",
       "dtype: object"
      ]
     },
     "execution_count": 57,
     "metadata": {},
     "output_type": "execute_result"
    }
   ],
   "source": [
    "pd.Series(dictionary1)"
   ]
  },
  {
   "cell_type": "markdown",
   "id": "3a67de75-22d0-45c0-9df9-76051af381ba",
   "metadata": {},
   "source": [
    "# missing data"
   ]
  },
  {
   "cell_type": "code",
   "execution_count": 63,
   "id": "c7722c81-30a0-49bc-8872-884a63bfafd0",
   "metadata": {},
   "outputs": [],
   "source": [
    "df = pd.DataFrame({'A':[1,2,np.nan,8,6],\n",
    "                  'B':[5,np.nan,np.nan,4,0],\n",
    "                  'C':[1,2,3,9,80]})"
   ]
  },
  {
   "cell_type": "code",
   "execution_count": 61,
   "id": "bc42883c-4248-46c8-8744-218aa99572c7",
   "metadata": {},
   "outputs": [
    {
     "data": {
      "text/html": [
       "<div>\n",
       "<style scoped>\n",
       "    .dataframe tbody tr th:only-of-type {\n",
       "        vertical-align: middle;\n",
       "    }\n",
       "\n",
       "    .dataframe tbody tr th {\n",
       "        vertical-align: top;\n",
       "    }\n",
       "\n",
       "    .dataframe thead th {\n",
       "        text-align: right;\n",
       "    }\n",
       "</style>\n",
       "<table border=\"1\" class=\"dataframe\">\n",
       "  <thead>\n",
       "    <tr style=\"text-align: right;\">\n",
       "      <th></th>\n",
       "      <th>A</th>\n",
       "      <th>B</th>\n",
       "      <th>C</th>\n",
       "    </tr>\n",
       "  </thead>\n",
       "  <tbody>\n",
       "    <tr>\n",
       "      <th>0</th>\n",
       "      <td>1.0</td>\n",
       "      <td>5.0</td>\n",
       "      <td>1</td>\n",
       "    </tr>\n",
       "    <tr>\n",
       "      <th>1</th>\n",
       "      <td>2.0</td>\n",
       "      <td>NaN</td>\n",
       "      <td>2</td>\n",
       "    </tr>\n",
       "    <tr>\n",
       "      <th>2</th>\n",
       "      <td>NaN</td>\n",
       "      <td>NaN</td>\n",
       "      <td>3</td>\n",
       "    </tr>\n",
       "    <tr>\n",
       "      <th>3</th>\n",
       "      <td>8.0</td>\n",
       "      <td>4.0</td>\n",
       "      <td>9</td>\n",
       "    </tr>\n",
       "    <tr>\n",
       "      <th>4</th>\n",
       "      <td>6.0</td>\n",
       "      <td>0.0</td>\n",
       "      <td>80</td>\n",
       "    </tr>\n",
       "  </tbody>\n",
       "</table>\n",
       "</div>"
      ],
      "text/plain": [
       "     A    B   C\n",
       "0  1.0  5.0   1\n",
       "1  2.0  NaN   2\n",
       "2  NaN  NaN   3\n",
       "3  8.0  4.0   9\n",
       "4  6.0  0.0  80"
      ]
     },
     "execution_count": 61,
     "metadata": {},
     "output_type": "execute_result"
    }
   ],
   "source": [
    "df"
   ]
  },
  {
   "cell_type": "code",
   "execution_count": 66,
   "id": "164136aa-0717-4618-8ec3-d2778f65e21d",
   "metadata": {},
   "outputs": [
    {
     "data": {
      "text/html": [
       "<div>\n",
       "<style scoped>\n",
       "    .dataframe tbody tr th:only-of-type {\n",
       "        vertical-align: middle;\n",
       "    }\n",
       "\n",
       "    .dataframe tbody tr th {\n",
       "        vertical-align: top;\n",
       "    }\n",
       "\n",
       "    .dataframe thead th {\n",
       "        text-align: right;\n",
       "    }\n",
       "</style>\n",
       "<table border=\"1\" class=\"dataframe\">\n",
       "  <thead>\n",
       "    <tr style=\"text-align: right;\">\n",
       "      <th></th>\n",
       "      <th>A</th>\n",
       "      <th>B</th>\n",
       "      <th>C</th>\n",
       "    </tr>\n",
       "  </thead>\n",
       "  <tbody>\n",
       "    <tr>\n",
       "      <th>0</th>\n",
       "      <td>1.0</td>\n",
       "      <td>5.0</td>\n",
       "      <td>1</td>\n",
       "    </tr>\n",
       "    <tr>\n",
       "      <th>3</th>\n",
       "      <td>8.0</td>\n",
       "      <td>4.0</td>\n",
       "      <td>9</td>\n",
       "    </tr>\n",
       "    <tr>\n",
       "      <th>4</th>\n",
       "      <td>6.0</td>\n",
       "      <td>0.0</td>\n",
       "      <td>80</td>\n",
       "    </tr>\n",
       "  </tbody>\n",
       "</table>\n",
       "</div>"
      ],
      "text/plain": [
       "     A    B   C\n",
       "0  1.0  5.0   1\n",
       "3  8.0  4.0   9\n",
       "4  6.0  0.0  80"
      ]
     },
     "execution_count": 66,
     "metadata": {},
     "output_type": "execute_result"
    }
   ],
   "source": [
    "df.dropna(axis = 0)"
   ]
  },
  {
   "cell_type": "code",
   "execution_count": 67,
   "id": "12902c9e-d507-4ecc-a4fe-857f5db220c8",
   "metadata": {},
   "outputs": [
    {
     "data": {
      "text/html": [
       "<div>\n",
       "<style scoped>\n",
       "    .dataframe tbody tr th:only-of-type {\n",
       "        vertical-align: middle;\n",
       "    }\n",
       "\n",
       "    .dataframe tbody tr th {\n",
       "        vertical-align: top;\n",
       "    }\n",
       "\n",
       "    .dataframe thead th {\n",
       "        text-align: right;\n",
       "    }\n",
       "</style>\n",
       "<table border=\"1\" class=\"dataframe\">\n",
       "  <thead>\n",
       "    <tr style=\"text-align: right;\">\n",
       "      <th></th>\n",
       "      <th>C</th>\n",
       "    </tr>\n",
       "  </thead>\n",
       "  <tbody>\n",
       "    <tr>\n",
       "      <th>0</th>\n",
       "      <td>1</td>\n",
       "    </tr>\n",
       "    <tr>\n",
       "      <th>1</th>\n",
       "      <td>2</td>\n",
       "    </tr>\n",
       "    <tr>\n",
       "      <th>2</th>\n",
       "      <td>3</td>\n",
       "    </tr>\n",
       "    <tr>\n",
       "      <th>3</th>\n",
       "      <td>9</td>\n",
       "    </tr>\n",
       "    <tr>\n",
       "      <th>4</th>\n",
       "      <td>80</td>\n",
       "    </tr>\n",
       "  </tbody>\n",
       "</table>\n",
       "</div>"
      ],
      "text/plain": [
       "    C\n",
       "0   1\n",
       "1   2\n",
       "2   3\n",
       "3   9\n",
       "4  80"
      ]
     },
     "execution_count": 67,
     "metadata": {},
     "output_type": "execute_result"
    }
   ],
   "source": [
    "df.dropna(axis = 1)"
   ]
  },
  {
   "cell_type": "code",
   "execution_count": 86,
   "id": "6e2090a6-43fe-4708-afa5-228501a314e1",
   "metadata": {},
   "outputs": [
    {
     "data": {
      "text/html": [
       "<div>\n",
       "<style scoped>\n",
       "    .dataframe tbody tr th:only-of-type {\n",
       "        vertical-align: middle;\n",
       "    }\n",
       "\n",
       "    .dataframe tbody tr th {\n",
       "        vertical-align: top;\n",
       "    }\n",
       "\n",
       "    .dataframe thead th {\n",
       "        text-align: right;\n",
       "    }\n",
       "</style>\n",
       "<table border=\"1\" class=\"dataframe\">\n",
       "  <thead>\n",
       "    <tr style=\"text-align: right;\">\n",
       "      <th></th>\n",
       "      <th>A</th>\n",
       "      <th>B</th>\n",
       "      <th>C</th>\n",
       "    </tr>\n",
       "  </thead>\n",
       "  <tbody>\n",
       "    <tr>\n",
       "      <th>0</th>\n",
       "      <td>1.0</td>\n",
       "      <td>5.0</td>\n",
       "      <td>1</td>\n",
       "    </tr>\n",
       "    <tr>\n",
       "      <th>1</th>\n",
       "      <td>2.0</td>\n",
       "      <td>NaN</td>\n",
       "      <td>2</td>\n",
       "    </tr>\n",
       "    <tr>\n",
       "      <th>2</th>\n",
       "      <td>NaN</td>\n",
       "      <td>NaN</td>\n",
       "      <td>3</td>\n",
       "    </tr>\n",
       "    <tr>\n",
       "      <th>3</th>\n",
       "      <td>8.0</td>\n",
       "      <td>4.0</td>\n",
       "      <td>9</td>\n",
       "    </tr>\n",
       "    <tr>\n",
       "      <th>4</th>\n",
       "      <td>6.0</td>\n",
       "      <td>0.0</td>\n",
       "      <td>80</td>\n",
       "    </tr>\n",
       "  </tbody>\n",
       "</table>\n",
       "</div>"
      ],
      "text/plain": [
       "     A    B   C\n",
       "0  1.0  5.0   1\n",
       "1  2.0  NaN   2\n",
       "2  NaN  NaN   3\n",
       "3  8.0  4.0   9\n",
       "4  6.0  0.0  80"
      ]
     },
     "execution_count": 86,
     "metadata": {},
     "output_type": "execute_result"
    }
   ],
   "source": [
    "df.dropna(thresh=1, axis = 1)"
   ]
  },
  {
   "cell_type": "code",
   "execution_count": 79,
   "id": "731c87b3-9569-4b4b-a45a-a20100ef4c4e",
   "metadata": {},
   "outputs": [
    {
     "data": {
      "text/html": [
       "<div>\n",
       "<style scoped>\n",
       "    .dataframe tbody tr th:only-of-type {\n",
       "        vertical-align: middle;\n",
       "    }\n",
       "\n",
       "    .dataframe tbody tr th {\n",
       "        vertical-align: top;\n",
       "    }\n",
       "\n",
       "    .dataframe thead th {\n",
       "        text-align: right;\n",
       "    }\n",
       "</style>\n",
       "<table border=\"1\" class=\"dataframe\">\n",
       "  <thead>\n",
       "    <tr style=\"text-align: right;\">\n",
       "      <th></th>\n",
       "      <th>A</th>\n",
       "      <th>B</th>\n",
       "      <th>C</th>\n",
       "    </tr>\n",
       "  </thead>\n",
       "  <tbody>\n",
       "    <tr>\n",
       "      <th>0</th>\n",
       "      <td>1.000000</td>\n",
       "      <td>5.000000</td>\n",
       "      <td>1</td>\n",
       "    </tr>\n",
       "    <tr>\n",
       "      <th>1</th>\n",
       "      <td>2.000000</td>\n",
       "      <td>2.645751</td>\n",
       "      <td>2</td>\n",
       "    </tr>\n",
       "    <tr>\n",
       "      <th>2</th>\n",
       "      <td>3.304038</td>\n",
       "      <td>2.645751</td>\n",
       "      <td>3</td>\n",
       "    </tr>\n",
       "    <tr>\n",
       "      <th>3</th>\n",
       "      <td>8.000000</td>\n",
       "      <td>4.000000</td>\n",
       "      <td>9</td>\n",
       "    </tr>\n",
       "    <tr>\n",
       "      <th>4</th>\n",
       "      <td>6.000000</td>\n",
       "      <td>0.000000</td>\n",
       "      <td>80</td>\n",
       "    </tr>\n",
       "  </tbody>\n",
       "</table>\n",
       "</div>"
      ],
      "text/plain": [
       "          A         B   C\n",
       "0  1.000000  5.000000   1\n",
       "1  2.000000  2.645751   2\n",
       "2  3.304038  2.645751   3\n",
       "3  8.000000  4.000000   9\n",
       "4  6.000000  0.000000  80"
      ]
     },
     "execution_count": 79,
     "metadata": {},
     "output_type": "execute_result"
    }
   ],
   "source": [
    "df.fillna(value = df.std(), axis=0)"
   ]
  },
  {
   "cell_type": "code",
   "execution_count": 82,
   "id": "ac673e98-b65e-4e39-b845-8fe6b6bf9e57",
   "metadata": {},
   "outputs": [
    {
     "data": {
      "text/html": [
       "<div>\n",
       "<style scoped>\n",
       "    .dataframe tbody tr th:only-of-type {\n",
       "        vertical-align: middle;\n",
       "    }\n",
       "\n",
       "    .dataframe tbody tr th {\n",
       "        vertical-align: top;\n",
       "    }\n",
       "\n",
       "    .dataframe thead th {\n",
       "        text-align: right;\n",
       "    }\n",
       "</style>\n",
       "<table border=\"1\" class=\"dataframe\">\n",
       "  <thead>\n",
       "    <tr style=\"text-align: right;\">\n",
       "      <th></th>\n",
       "      <th>A</th>\n",
       "      <th>B</th>\n",
       "      <th>C</th>\n",
       "    </tr>\n",
       "  </thead>\n",
       "  <tbody>\n",
       "    <tr>\n",
       "      <th>0</th>\n",
       "      <td>1.00</td>\n",
       "      <td>5.0</td>\n",
       "      <td>1</td>\n",
       "    </tr>\n",
       "    <tr>\n",
       "      <th>1</th>\n",
       "      <td>2.00</td>\n",
       "      <td>3.0</td>\n",
       "      <td>2</td>\n",
       "    </tr>\n",
       "    <tr>\n",
       "      <th>2</th>\n",
       "      <td>4.25</td>\n",
       "      <td>3.0</td>\n",
       "      <td>3</td>\n",
       "    </tr>\n",
       "    <tr>\n",
       "      <th>3</th>\n",
       "      <td>8.00</td>\n",
       "      <td>4.0</td>\n",
       "      <td>9</td>\n",
       "    </tr>\n",
       "    <tr>\n",
       "      <th>4</th>\n",
       "      <td>6.00</td>\n",
       "      <td>0.0</td>\n",
       "      <td>80</td>\n",
       "    </tr>\n",
       "  </tbody>\n",
       "</table>\n",
       "</div>"
      ],
      "text/plain": [
       "      A    B   C\n",
       "0  1.00  5.0   1\n",
       "1  2.00  3.0   2\n",
       "2  4.25  3.0   3\n",
       "3  8.00  4.0   9\n",
       "4  6.00  0.0  80"
      ]
     },
     "execution_count": 82,
     "metadata": {},
     "output_type": "execute_result"
    }
   ],
   "source": [
    "df.fillna(value = df.mean())"
   ]
  },
  {
   "cell_type": "code",
   "execution_count": 83,
   "id": "5328015c-a2fd-4807-8e1e-4e78e0a4da35",
   "metadata": {},
   "outputs": [
    {
     "data": {
      "text/html": [
       "<div>\n",
       "<style scoped>\n",
       "    .dataframe tbody tr th:only-of-type {\n",
       "        vertical-align: middle;\n",
       "    }\n",
       "\n",
       "    .dataframe tbody tr th {\n",
       "        vertical-align: top;\n",
       "    }\n",
       "\n",
       "    .dataframe thead th {\n",
       "        text-align: right;\n",
       "    }\n",
       "</style>\n",
       "<table border=\"1\" class=\"dataframe\">\n",
       "  <thead>\n",
       "    <tr style=\"text-align: right;\">\n",
       "      <th></th>\n",
       "      <th>A</th>\n",
       "      <th>B</th>\n",
       "      <th>C</th>\n",
       "    </tr>\n",
       "  </thead>\n",
       "  <tbody>\n",
       "    <tr>\n",
       "      <th>0</th>\n",
       "      <td>1.0</td>\n",
       "      <td>5.0</td>\n",
       "      <td>1</td>\n",
       "    </tr>\n",
       "    <tr>\n",
       "      <th>1</th>\n",
       "      <td>2.0</td>\n",
       "      <td>NaN</td>\n",
       "      <td>2</td>\n",
       "    </tr>\n",
       "    <tr>\n",
       "      <th>2</th>\n",
       "      <td>NaN</td>\n",
       "      <td>NaN</td>\n",
       "      <td>3</td>\n",
       "    </tr>\n",
       "    <tr>\n",
       "      <th>3</th>\n",
       "      <td>8.0</td>\n",
       "      <td>4.0</td>\n",
       "      <td>9</td>\n",
       "    </tr>\n",
       "    <tr>\n",
       "      <th>4</th>\n",
       "      <td>6.0</td>\n",
       "      <td>0.0</td>\n",
       "      <td>80</td>\n",
       "    </tr>\n",
       "  </tbody>\n",
       "</table>\n",
       "</div>"
      ],
      "text/plain": [
       "     A    B   C\n",
       "0  1.0  5.0   1\n",
       "1  2.0  NaN   2\n",
       "2  NaN  NaN   3\n",
       "3  8.0  4.0   9\n",
       "4  6.0  0.0  80"
      ]
     },
     "execution_count": 83,
     "metadata": {},
     "output_type": "execute_result"
    }
   ],
   "source": [
    "df"
   ]
  },
  {
   "cell_type": "code",
   "execution_count": 85,
   "id": "e31abf38-64e4-4004-aec6-c9db8272a226",
   "metadata": {},
   "outputs": [
    {
     "data": {
      "text/plain": [
       "0    5.0\n",
       "1    3.0\n",
       "2    3.0\n",
       "3    4.0\n",
       "4    0.0\n",
       "Name: B, dtype: float64"
      ]
     },
     "execution_count": 85,
     "metadata": {},
     "output_type": "execute_result"
    }
   ],
   "source": [
    "df['B'].fillna(value = df['B'].mean())"
   ]
  },
  {
   "cell_type": "code",
   "execution_count": null,
   "id": "c53ebc1d-17e4-4573-93a5-893714fe4de7",
   "metadata": {},
   "outputs": [],
   "source": []
  }
 ],
 "metadata": {
  "kernelspec": {
   "display_name": "Python 3",
   "language": "python",
   "name": "python3"
  },
  "language_info": {
   "codemirror_mode": {
    "name": "ipython",
    "version": 3
   },
   "file_extension": ".py",
   "mimetype": "text/x-python",
   "name": "python",
   "nbconvert_exporter": "python",
   "pygments_lexer": "ipython3",
   "version": "3.8.8"
  }
 },
 "nbformat": 4,
 "nbformat_minor": 5
}
